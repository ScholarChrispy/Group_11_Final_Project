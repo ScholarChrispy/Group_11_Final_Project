{
  "cells": [
    {
      "cell_type": "markdown",
      "metadata": {},
      "source": [
        "# **The Global Nature of Happiness**\n",
        "***"
      ]
    },
    {
      "cell_type": "markdown",
      "metadata": {},
      "source": [
        "### **Group Members:** ###\n",
        "\n",
        "**- James Currie**\n",
        "\n",
        "**- Christopher Johnson**\n",
        "\n",
        "**- Salim Bhana**"
      ]
    },
    {
      "cell_type": "markdown",
      "metadata": {
        "id": "MBDjO32pDX0R"
      },
      "source": [
        "# **Introduction**\n",
        "***"
      ]
    },
    {
      "cell_type": "markdown",
      "metadata": {
        "id": "Osz0-pMeEbHb"
      },
      "source": [
        "Our dataset is about World Happiness. World happiness is based on the citizens' liking towards particular factors. It ranks each country in ascending order based on the happiness score it has received for the years of 2015 to 2019. The happiness score was based on factors such as life expectancy, social support, freedom, trust in the government, economy etc. An interesting analysis has been prepared in this report. \n",
        "\n",
        "The data was collected from a known database called kaggle. Kaggle has many public well established datasets which data scientists can use for their research.\n",
        "\n",
        "The world happiness dataset can be used by many types of people. People who wish to go on a vacation or who want to live somewhere else can use this data. Airline agencies can use this data to decide on a reasonable pricing to a destination. Throughout this report, you will find insight to very important questions that need answering.\n",
        "\n",
        "The data that was found was quite clean but we did edit some. Firstly we edited some of the names of the columns to help them match up better as the names had slight differences from year to year such as Family to Social Support. We dropped some columns that were not relevant such as standard error, dystopia residual.\n",
        "\n"
      ]
    },
    {
      "cell_type": "markdown",
      "metadata": {
        "id": "G26pf60ADYWA"
      },
      "source": [
        "# **Description Of The Data**\n",
        "***"
      ]
    },
    {
      "cell_type": "markdown",
      "metadata": {
        "id": "KPk9u3gqGZmZ"
      },
      "source": [
        "This dataset is based upon the World Happiness Report, is a survey of the state of global happiness. The report was first published in 2012, and was redone in 2013, 2015, 2016, 2017, 2018 and 2019. This report continues to gain worldwide recognition as a very important indication of a country's happiness. Governments, organizations, and civil society are beginning to use it to inform their policy-making decisions. (*Reference: https://www.kaggle.com/unsdsn/world-happiness?select=2015.csv*)\n",
        "\n",
        "This dataset was found on *Kaggle*, and can be found at https://www.kaggle.com/unsdsn/world-happiness?select=2015.csv\n",
        "\n",
        "Our group takes no credit for the collection, or organization of this data."
      ]
    },
    {
      "cell_type": "markdown",
      "metadata": {
        "id": "sGjoZ8myDY38"
      },
      "source": [
        "# **Analysis Of The Data**\n",
        "***"
      ]
    },
    {
      "cell_type": "markdown",
      "metadata": {
        "id": "WD6dJmZIGskA"
      },
      "source": [
        "This dataset is all about world happiness, and it describes the happiness for (almost) every country in the world over the course of 4 years (2015 to 2019). It does this by describing a few attributes which contribute to that score. Those attributes are as follows:\n",
        "\n",
        "- GDP per capita: The GDP of the country divided by its total population.\n",
        "- Life Expectancy: The average life expectancy of the general population.\n",
        "- Social Support: A measure of the amount of support the average citizen is supported by friends, family, and society in general.\n",
        "- Freedom: A measure of the amount of freedom the average citizen has.\n",
        "- Trust: A measure of the amount of trust the average citizen has in their government.\n",
        "- Generosity: A measure of the amount of generosity shown to/by the average citizen.\n",
        "\n",
        "The initial data that can be found on the *Kaggle* site included some attributes which varied across the years in the dataset, as well as some which were not relevant to the work we wanted to complete. Thus, some work was done to clean up the data before it was imported into the project and utilized by the code we have writen. As for the quality of the data, it appears to be high enough quality to do some sound analysis of world happiness with it."
      ]
    },
    {
      "cell_type": "markdown",
      "metadata": {},
      "source": [
        "## **Discussion:**\n"
      ]
    },
    {
      "cell_type": "markdown",
      "metadata": {},
      "source": [
        "### **After examining our dataset, we had picked very important questions that needed answers:** ###\n",
        "\n",
        "#### - Why is Finland the happiest country in 2019?\n",
        "#### - Which country is the worst in 2019? Why?\n",
        "#### - Is there a correlation between Health and Long Life expectancy?\n",
        "#### - What is the correlation between Trust and Freedom?\n",
        "#### - What is the correlation between freedom and overall country happiness?\n",
        "#### - How does the order of happiest countries change over time? What instigated the change in order?\n",
        "#### - How much of an impact does the perception of corruption have on overall country happiness?"
      ]
    },
    {
      "cell_type": "markdown",
      "metadata": {
        "id": "fA2QBcdRG_5N"
      },
      "source": [
        "# **Exploratory Data Analysis**\n",
        "***"
      ]
    },
    {
      "cell_type": "markdown",
      "metadata": {
        "id": "IQQ2EJAwDAHx"
      },
      "source": [
        "## **Initializing the Datasets:**"
      ]
    },
    {
      "cell_type": "code",
      "execution_count": 126,
      "metadata": {},
      "outputs": [],
      "source": [
        "# importing pandas\n",
        "import pandas as pd\n",
        "# importing numpy\n",
        "import numpy as np\n",
        "# importing matplotlib\n",
        "import matplotlib.pyplot as plt\n",
        "# importing seaborn\n",
        "import seaborn as sns\n",
        "# importing math\n",
        "import math"
      ]
    },
    {
      "cell_type": "code",
      "execution_count": 82,
      "metadata": {
        "colab": {
          "base_uri": "https://localhost:8080/",
          "height": 458
        },
        "id": "TEcRvcNwESjT",
        "outputId": "305b5e85-454a-4dfb-e3e5-131f104f1292"
      },
      "outputs": [],
      "source": [
        "# importing the data into dataframes\n",
        "\n",
        "# Just Getting Every Single File and Returning a list containing DataFrames\n",
        "def readFiles():\n",
        "    x = []\n",
        "\n",
        "    for i in range(2015, 2020):\n",
        "        myStr = \"world_happiness_data/\" + str(i) + \".csv\"\n",
        "        x.append(pd.DataFrame(pd.read_csv(myStr)))\n",
        "    \n",
        "    return x\n",
        "\n",
        "# the data is store within this array\n",
        "yearly_data = readFiles()"
      ]
    },
    {
      "cell_type": "markdown",
      "metadata": {},
      "source": [
        "## **Why is Finland the happiest country in 2019?**"
      ]
    },
    {
      "cell_type": "markdown",
      "metadata": {},
      "source": [
        "#### **Question:** In 2019, which country has the *highest* happiness score? Between 2015 and 2019, what changed to make that country the highest rated?\n",
        "\n",
        "**Answer:** In 2019, Finland has the highest overall happiness, with a score of 7.769. But **WHY?**"
      ]
    },
    {
      "cell_type": "markdown",
      "metadata": {},
      "source": [
        "#### **Task:** Calculate the differences in each attribute per year (2015 to 2016, 2016 to 2017, etc.)"
      ]
    },
    {
      "cell_type": "code",
      "execution_count": 348,
      "metadata": {},
      "outputs": [
        {
          "data": {
            "text/html": [
              "<div>\n",
              "<style scoped>\n",
              "    .dataframe tbody tr th:only-of-type {\n",
              "        vertical-align: middle;\n",
              "    }\n",
              "\n",
              "    .dataframe tbody tr th {\n",
              "        vertical-align: top;\n",
              "    }\n",
              "\n",
              "    .dataframe thead th {\n",
              "        text-align: right;\n",
              "    }\n",
              "</style>\n",
              "<table border=\"1\" class=\"dataframe\">\n",
              "  <thead>\n",
              "    <tr style=\"text-align: right;\">\n",
              "      <th></th>\n",
              "      <th>Overall Score</th>\n",
              "      <th>Country</th>\n",
              "      <th>Happiness Score</th>\n",
              "      <th>GDP per capita</th>\n",
              "      <th>Life Expectancy</th>\n",
              "      <th>Social Support</th>\n",
              "      <th>Freedom</th>\n",
              "      <th>Trust</th>\n",
              "      <th>Generosity</th>\n",
              "    </tr>\n",
              "  </thead>\n",
              "  <tbody>\n",
              "    <tr>\n",
              "      <th>0</th>\n",
              "      <td>1</td>\n",
              "      <td>Finland</td>\n",
              "      <td>7.769</td>\n",
              "      <td>1.340</td>\n",
              "      <td>0.986</td>\n",
              "      <td>1.587</td>\n",
              "      <td>0.596</td>\n",
              "      <td>0.393</td>\n",
              "      <td>0.153</td>\n",
              "    </tr>\n",
              "    <tr>\n",
              "      <th>1</th>\n",
              "      <td>2</td>\n",
              "      <td>Denmark</td>\n",
              "      <td>7.600</td>\n",
              "      <td>1.383</td>\n",
              "      <td>0.996</td>\n",
              "      <td>1.573</td>\n",
              "      <td>0.592</td>\n",
              "      <td>0.410</td>\n",
              "      <td>0.252</td>\n",
              "    </tr>\n",
              "    <tr>\n",
              "      <th>2</th>\n",
              "      <td>3</td>\n",
              "      <td>Norway</td>\n",
              "      <td>7.554</td>\n",
              "      <td>1.488</td>\n",
              "      <td>1.028</td>\n",
              "      <td>1.582</td>\n",
              "      <td>0.603</td>\n",
              "      <td>0.341</td>\n",
              "      <td>0.271</td>\n",
              "    </tr>\n",
              "    <tr>\n",
              "      <th>3</th>\n",
              "      <td>4</td>\n",
              "      <td>Iceland</td>\n",
              "      <td>7.494</td>\n",
              "      <td>1.380</td>\n",
              "      <td>1.026</td>\n",
              "      <td>1.624</td>\n",
              "      <td>0.591</td>\n",
              "      <td>0.118</td>\n",
              "      <td>0.354</td>\n",
              "    </tr>\n",
              "    <tr>\n",
              "      <th>4</th>\n",
              "      <td>5</td>\n",
              "      <td>Netherlands</td>\n",
              "      <td>7.488</td>\n",
              "      <td>1.396</td>\n",
              "      <td>0.999</td>\n",
              "      <td>1.522</td>\n",
              "      <td>0.557</td>\n",
              "      <td>0.298</td>\n",
              "      <td>0.322</td>\n",
              "    </tr>\n",
              "    <tr>\n",
              "      <th>...</th>\n",
              "      <td>...</td>\n",
              "      <td>...</td>\n",
              "      <td>...</td>\n",
              "      <td>...</td>\n",
              "      <td>...</td>\n",
              "      <td>...</td>\n",
              "      <td>...</td>\n",
              "      <td>...</td>\n",
              "      <td>...</td>\n",
              "    </tr>\n",
              "    <tr>\n",
              "      <th>151</th>\n",
              "      <td>152</td>\n",
              "      <td>Rwanda</td>\n",
              "      <td>3.334</td>\n",
              "      <td>0.359</td>\n",
              "      <td>0.614</td>\n",
              "      <td>0.711</td>\n",
              "      <td>0.555</td>\n",
              "      <td>0.411</td>\n",
              "      <td>0.217</td>\n",
              "    </tr>\n",
              "    <tr>\n",
              "      <th>152</th>\n",
              "      <td>153</td>\n",
              "      <td>Tanzania</td>\n",
              "      <td>3.231</td>\n",
              "      <td>0.476</td>\n",
              "      <td>0.499</td>\n",
              "      <td>0.885</td>\n",
              "      <td>0.417</td>\n",
              "      <td>0.147</td>\n",
              "      <td>0.276</td>\n",
              "    </tr>\n",
              "    <tr>\n",
              "      <th>153</th>\n",
              "      <td>154</td>\n",
              "      <td>Afghanistan</td>\n",
              "      <td>3.203</td>\n",
              "      <td>0.350</td>\n",
              "      <td>0.361</td>\n",
              "      <td>0.517</td>\n",
              "      <td>0.000</td>\n",
              "      <td>0.025</td>\n",
              "      <td>0.158</td>\n",
              "    </tr>\n",
              "    <tr>\n",
              "      <th>154</th>\n",
              "      <td>155</td>\n",
              "      <td>Central African Republic</td>\n",
              "      <td>3.083</td>\n",
              "      <td>0.026</td>\n",
              "      <td>0.105</td>\n",
              "      <td>0.000</td>\n",
              "      <td>0.225</td>\n",
              "      <td>0.035</td>\n",
              "      <td>0.235</td>\n",
              "    </tr>\n",
              "    <tr>\n",
              "      <th>155</th>\n",
              "      <td>156</td>\n",
              "      <td>South Sudan</td>\n",
              "      <td>2.853</td>\n",
              "      <td>0.306</td>\n",
              "      <td>0.295</td>\n",
              "      <td>0.575</td>\n",
              "      <td>0.010</td>\n",
              "      <td>0.091</td>\n",
              "      <td>0.202</td>\n",
              "    </tr>\n",
              "  </tbody>\n",
              "</table>\n",
              "<p>156 rows × 9 columns</p>\n",
              "</div>"
            ],
            "text/plain": [
              "     Overall Score                   Country  Happiness Score  GDP per capita  \\\n",
              "0                1                   Finland            7.769           1.340   \n",
              "1                2                   Denmark            7.600           1.383   \n",
              "2                3                    Norway            7.554           1.488   \n",
              "3                4                   Iceland            7.494           1.380   \n",
              "4                5               Netherlands            7.488           1.396   \n",
              "..             ...                       ...              ...             ...   \n",
              "151            152                    Rwanda            3.334           0.359   \n",
              "152            153                  Tanzania            3.231           0.476   \n",
              "153            154               Afghanistan            3.203           0.350   \n",
              "154            155  Central African Republic            3.083           0.026   \n",
              "155            156               South Sudan            2.853           0.306   \n",
              "\n",
              "     Life Expectancy  Social Support  Freedom  Trust  Generosity  \n",
              "0              0.986           1.587    0.596  0.393       0.153  \n",
              "1              0.996           1.573    0.592  0.410       0.252  \n",
              "2              1.028           1.582    0.603  0.341       0.271  \n",
              "3              1.026           1.624    0.591  0.118       0.354  \n",
              "4              0.999           1.522    0.557  0.298       0.322  \n",
              "..               ...             ...      ...    ...         ...  \n",
              "151            0.614           0.711    0.555  0.411       0.217  \n",
              "152            0.499           0.885    0.417  0.147       0.276  \n",
              "153            0.361           0.517    0.000  0.025       0.158  \n",
              "154            0.105           0.000    0.225  0.035       0.235  \n",
              "155            0.295           0.575    0.010  0.091       0.202  \n",
              "\n",
              "[156 rows x 9 columns]"
            ]
          },
          "execution_count": 348,
          "metadata": {},
          "output_type": "execute_result"
        }
      ],
      "source": [
        "# printing out the data from the 2019 survey\n",
        "yearly_data[4]"
      ]
    },
    {
      "cell_type": "code",
      "execution_count": 83,
      "metadata": {},
      "outputs": [],
      "source": [
        "# defining a function to complete the current task, as well as to be useful for future tasks.\n",
        "\n",
        "# finds the changes in a specified country's attributes over the time period of the dataset (2015-2019)\n",
        "def change_over_time(country):\n",
        "    # the the final year over year changes\n",
        "    return_values = {\n",
        "        # the index value for the (eventual) dataframe\n",
        "        \"year_comparison\": [], # will look something like this: [\"2015 to 2016\", \"2016 to 2017\", \"2017 to 2018\", \"2018 to 2019\"]\n",
        "        # the column names for the (eventual) dataframe\n",
        "        \"happiness_diff\": [],\n",
        "        \"gdp_per_capita_diff\": [],\n",
        "        \"life_expectancy_diff\": [],\n",
        "        \"social_support_diff\": [],\n",
        "        \"freedom_diff\": [],\n",
        "        \"trust_diff\": [],\n",
        "        \"generosity_diff\": []\n",
        "    }\n",
        "\n",
        "    \n",
        "    for year in range(2015, 2019):\n",
        "        x = 0\n",
        "        while x < (len(yearly_data[year-2015].index)):\n",
        "            if yearly_data[year-2015][\"Country\"][x] == str(country):\n",
        "                return_values[\"year_comparison\"].append(str(year) + \" to \" + str(year + 1)) # Year\n",
        "                return_values[\"happiness_diff\"].append(yearly_data[year-2015 + 1]['Happiness Score'][x] - yearly_data[year-2015]['Happiness Score'][x]) # Happiness Score\n",
        "                return_values[\"gdp_per_capita_diff\"].append(yearly_data[year-2015 + 1]['GDP per capita'][x] - yearly_data[year-2015]['GDP per capita'][x]) # GDP Per Capita\n",
        "                return_values[\"life_expectancy_diff\"].append(yearly_data[year-2015 + 1]['Life Expectancy'][x] - yearly_data[year-2015]['Life Expectancy'][x]) # Life Expectancy\n",
        "                return_values[\"social_support_diff\"].append(yearly_data[year-2015 + 1]['Social Support'][x] - yearly_data[year-2015]['Social Support'][x]) # Social Support\n",
        "                return_values[\"freedom_diff\"].append(yearly_data[year-2015 + 1]['Freedom'][x] - yearly_data[year-2015]['Freedom'][x]) # Freedom\n",
        "                return_values[\"trust_diff\"].append(yearly_data[year-2015 + 1]['Trust'][x] - yearly_data[year-2015]['Trust'][x]) # Trust\n",
        "                return_values[\"generosity_diff\"].append(yearly_data[year-2015 + 1]['Generosity'][x] - yearly_data[year-2015]['Generosity'][x]) # Generosity\n",
        "            # increment the counter\n",
        "            x += 1\n",
        "\n",
        "    return return_values"
      ]
    },
    {
      "cell_type": "code",
      "execution_count": 84,
      "metadata": {},
      "outputs": [
        {
          "data": {
            "text/html": [
              "<div>\n",
              "<style scoped>\n",
              "    .dataframe tbody tr th:only-of-type {\n",
              "        vertical-align: middle;\n",
              "    }\n",
              "\n",
              "    .dataframe tbody tr th {\n",
              "        vertical-align: top;\n",
              "    }\n",
              "\n",
              "    .dataframe thead th {\n",
              "        text-align: right;\n",
              "    }\n",
              "</style>\n",
              "<table border=\"1\" class=\"dataframe\">\n",
              "  <thead>\n",
              "    <tr style=\"text-align: right;\">\n",
              "      <th></th>\n",
              "      <th>year_comparison</th>\n",
              "      <th>happiness_diff</th>\n",
              "      <th>gdp_per_capita_diff</th>\n",
              "      <th>life_expectancy_diff</th>\n",
              "      <th>social_support_diff</th>\n",
              "      <th>freedom_diff</th>\n",
              "      <th>trust_diff</th>\n",
              "      <th>generosity_diff</th>\n",
              "    </tr>\n",
              "  </thead>\n",
              "  <tbody>\n",
              "    <tr>\n",
              "      <th>0</th>\n",
              "      <td>2015 to 2016</td>\n",
              "      <td>-0.002</td>\n",
              "      <td>0.149900</td>\n",
              "      <td>-0.061510</td>\n",
              "      <td>-0.222160</td>\n",
              "      <td>-0.067990</td>\n",
              "      <td>-0.100430</td>\n",
              "      <td>0.214830</td>\n",
              "    </tr>\n",
              "    <tr>\n",
              "      <th>1</th>\n",
              "      <td>2016 to 2017</td>\n",
              "      <td>0.056</td>\n",
              "      <td>0.037592</td>\n",
              "      <td>-0.001752</td>\n",
              "      <td>0.405607</td>\n",
              "      <td>0.046911</td>\n",
              "      <td>-0.027428</td>\n",
              "      <td>-0.009437</td>\n",
              "    </tr>\n",
              "    <tr>\n",
              "      <th>2</th>\n",
              "      <td>2017 to 2018</td>\n",
              "      <td>0.018</td>\n",
              "      <td>-0.023572</td>\n",
              "      <td>0.117842</td>\n",
              "      <td>0.008753</td>\n",
              "      <td>0.042049</td>\n",
              "      <td>-0.025612</td>\n",
              "      <td>0.010517</td>\n",
              "    </tr>\n",
              "    <tr>\n",
              "      <th>3</th>\n",
              "      <td>2018 to 2019</td>\n",
              "      <td>0.137</td>\n",
              "      <td>0.035000</td>\n",
              "      <td>0.112000</td>\n",
              "      <td>-0.005000</td>\n",
              "      <td>-0.085000</td>\n",
              "      <td>0.000000</td>\n",
              "      <td>-0.049000</td>\n",
              "    </tr>\n",
              "  </tbody>\n",
              "</table>\n",
              "</div>"
            ],
            "text/plain": [
              "  year_comparison  happiness_diff  gdp_per_capita_diff  life_expectancy_diff  \\\n",
              "0    2015 to 2016          -0.002             0.149900             -0.061510   \n",
              "1    2016 to 2017           0.056             0.037592             -0.001752   \n",
              "2    2017 to 2018           0.018            -0.023572              0.117842   \n",
              "3    2018 to 2019           0.137             0.035000              0.112000   \n",
              "\n",
              "   social_support_diff  freedom_diff  trust_diff  generosity_diff  \n",
              "0            -0.222160     -0.067990   -0.100430         0.214830  \n",
              "1             0.405607      0.046911   -0.027428        -0.009437  \n",
              "2             0.008753      0.042049   -0.025612         0.010517  \n",
              "3            -0.005000     -0.085000    0.000000        -0.049000  "
            ]
          },
          "execution_count": 84,
          "metadata": {},
          "output_type": "execute_result"
        }
      ],
      "source": [
        "# calling the change over time function for Finland\n",
        "finland_results_dict = change_over_time(\"Finland\")\n",
        "\n",
        "# converting the values into a dataframe\n",
        "finland_results = pd.DataFrame.from_dict(finland_results_dict)\n",
        "finland_results"
      ]
    },
    {
      "cell_type": "code",
      "execution_count": 85,
      "metadata": {},
      "outputs": [
        {
          "data": {
            "image/png": "[encoded data removed]",
            "text/plain": [
              "<Figure size 495.5x360 with 1 Axes>"
            ]
          },
          "metadata": {
            "needs_background": "light"
          },
          "output_type": "display_data"
        }
      ],
      "source": [
        "finland_results_melt = finland_results.melt(\"year_comparison\", var_name=\"variables\", value_name=\"values\")\n",
        "finland_plot = sns.catplot(x=\"year_comparison\", y=\"values\", hue=\"variables\", data=finland_results_melt, kind=\"point\")"
      ]
    },
    {
      "cell_type": "markdown",
      "metadata": {},
      "source": [
        "### **Results:**\n",
        "Finland was not always the highest rated country, and we can see its progression throughout the years covered by the dataset. In 2015, it started off in 6th place, but a general increase of GDP per capita, Life Expectancy, and Social Support seem to be the main factors for its rise to first place in 2019.\n",
        "\n",
        "According  to Forbes (https://www.forbes.com/sites/heikkivaananen/2020/05/26/what-makes-finland-the-happiest-country-in-the-world/), there are many reasons as to why Finland is considered the happiest country on the planet. The first of which is its reputation for having very low levels of corruption in its governments. This gives the general population a sense of trust in their government, and helps them believe that their government is working for them. The second factor is its great social support and wide range of benefits provided to its citizens. This is reflected in the graph above, where social support is one of the main factors in the country’s high happiness score.\n"
      ]
    },
    {
      "cell_type": "markdown",
      "metadata": {},
      "source": [
        "## **Which country is the worst in 2019? Why?**"
      ]
    },
    {
      "cell_type": "markdown",
      "metadata": {},
      "source": [
        "#### **Question:** In 2019, which country has the *lowest* happiness score? Between 2015 and 2019, what changed to make that country the lowest rated?\n",
        "\n",
        "**Answer:** In 2019, South Sudan had the lowest overall happiness, with a score of 2.853. But **WHY?**"
      ]
    },
    {
      "cell_type": "markdown",
      "metadata": {},
      "source": [
        "#### **Task:** Calculate the differences in each attribute per year (2015 to 2016, 2016 to 2017, etc.)"
      ]
    },
    {
      "cell_type": "code",
      "execution_count": 86,
      "metadata": {},
      "outputs": [
        {
          "data": {
            "text/html": [
              "<div>\n",
              "<style scoped>\n",
              "    .dataframe tbody tr th:only-of-type {\n",
              "        vertical-align: middle;\n",
              "    }\n",
              "\n",
              "    .dataframe tbody tr th {\n",
              "        vertical-align: top;\n",
              "    }\n",
              "\n",
              "    .dataframe thead th {\n",
              "        text-align: right;\n",
              "    }\n",
              "</style>\n",
              "<table border=\"1\" class=\"dataframe\">\n",
              "  <thead>\n",
              "    <tr style=\"text-align: right;\">\n",
              "      <th></th>\n",
              "      <th>year_comparison</th>\n",
              "      <th>happiness_diff</th>\n",
              "      <th>gdp_per_capita_diff</th>\n",
              "      <th>life_expectancy_diff</th>\n",
              "      <th>social_support_diff</th>\n",
              "      <th>freedom_diff</th>\n",
              "      <th>trust_diff</th>\n",
              "      <th>generosity_diff</th>\n",
              "    </tr>\n",
              "  </thead>\n",
              "  <tbody>\n",
              "    <tr>\n",
              "      <th>0</th>\n",
              "      <td>2016 to 2017</td>\n",
              "      <td>-0.175</td>\n",
              "      <td>0.037145</td>\n",
              "      <td>0.052120</td>\n",
              "      <td>0.250110</td>\n",
              "      <td>0.229343</td>\n",
              "      <td>-0.069221</td>\n",
              "      <td>-0.051042</td>\n",
              "    </tr>\n",
              "    <tr>\n",
              "      <th>1</th>\n",
              "      <td>2017 to 2018</td>\n",
              "      <td>-0.004</td>\n",
              "      <td>-0.211249</td>\n",
              "      <td>0.142514</td>\n",
              "      <td>-0.060323</td>\n",
              "      <td>0.383938</td>\n",
              "      <td>-0.036794</td>\n",
              "      <td>-0.075671</td>\n",
              "    </tr>\n",
              "    <tr>\n",
              "      <th>2</th>\n",
              "      <td>2018 to 2019</td>\n",
              "      <td>-0.051</td>\n",
              "      <td>0.013000</td>\n",
              "      <td>0.184000</td>\n",
              "      <td>-0.091000</td>\n",
              "      <td>-0.112000</td>\n",
              "      <td>-0.081000</td>\n",
              "      <td>-0.066000</td>\n",
              "    </tr>\n",
              "  </tbody>\n",
              "</table>\n",
              "</div>"
            ],
            "text/plain": [
              "  year_comparison  happiness_diff  gdp_per_capita_diff  life_expectancy_diff  \\\n",
              "0    2016 to 2017          -0.175             0.037145              0.052120   \n",
              "1    2017 to 2018          -0.004            -0.211249              0.142514   \n",
              "2    2018 to 2019          -0.051             0.013000              0.184000   \n",
              "\n",
              "   social_support_diff  freedom_diff  trust_diff  generosity_diff  \n",
              "0             0.250110      0.229343   -0.069221        -0.051042  \n",
              "1            -0.060323      0.383938   -0.036794        -0.075671  \n",
              "2            -0.091000     -0.112000   -0.081000        -0.066000  "
            ]
          },
          "execution_count": 86,
          "metadata": {},
          "output_type": "execute_result"
        }
      ],
      "source": [
        "# calling the change over time function for Finland\n",
        "south_sudan_results_dict = change_over_time(\"South Sudan\")\n",
        "south_sudan_results_dict\n",
        "\n",
        "# converting the values into a dataframe\n",
        "south_sudan_results = pd.DataFrame.from_dict(south_sudan_results_dict)\n",
        "south_sudan_results"
      ]
    },
    {
      "cell_type": "code",
      "execution_count": 87,
      "metadata": {},
      "outputs": [
        {
          "data": {
            "image/png": "[encoded data removed]",
            "text/plain": [
              "<Figure size 495.5x360 with 1 Axes>"
            ]
          },
          "metadata": {
            "needs_background": "light"
          },
          "output_type": "display_data"
        }
      ],
      "source": [
        "south_sudan_results_melt = south_sudan_results.melt(\"year_comparison\", var_name=\"variables\", value_name=\"values\")\n",
        "south_sudan_plot = sns.catplot(x=\"year_comparison\", y=\"values\", hue=\"variables\", data=south_sudan_results_melt, kind=\"point\")"
      ]
    },
    {
      "cell_type": "markdown",
      "metadata": {},
      "source": [
        "### **Results:**\n",
        "The worst country was South Sudan. South Sudan had the lowest overall happiness with a score of 2.853. Each year from 2016 to 2019, the happiness kept decreasing by some factor. In South Sudan, there is a poor economy with the GDP per capita being 0.013 in 2019. Freedom is also very low and the trust in the government is very low. This shows that the country is quite restrictive and does not give many opportunities.\n",
        "\n",
        "According to Smart Travellers (https://www.smartraveller.gov.au/destinations/africa/south-sudan), South Sudan is a very bad country. There is kidnapping, rape, murder, assault. There is also very bad weather and crime can occur at any time of the day. Our findings conclude what was on the above website.\n"
      ]
    },
    {
      "cell_type": "markdown",
      "metadata": {},
      "source": [
        "## **Is There a Correlation Between Social Support and Long Life expectancy?**"
      ]
    },
    {
      "cell_type": "markdown",
      "metadata": {},
      "source": [
        "#### **Question:** Is there a correlation between Social Support and Life Expectancy? What is the correlation for each year in the dataset?"
      ]
    },
    {
      "cell_type": "markdown",
      "metadata": {},
      "source": [
        "#### **Task:** Find the values of Social Support and Life Expectancy over each year in the dataset, and then graph the data to visualize any trends."
      ]
    },
    {
      "cell_type": "code",
      "execution_count": 88,
      "metadata": {},
      "outputs": [],
      "source": [
        "# defining a method which can fetch the data of two specified attributes for each year in the dataset\n",
        "def correlation_data(attribute_one, attribute_two):\n",
        "    # dictionary to store the return values\n",
        "    return_values = {\n",
        "        \"year\": [],\n",
        "        str(attribute_one): [],\n",
        "        str(attribute_two): []\n",
        "    }\n",
        "\n",
        "    for year in range(2015, 2020):\n",
        "        \n",
        "        x = 0\n",
        "        while x < (len(yearly_data[year-2015].index)):\n",
        "            # append the current year (appending every time to account for transfer to a dataframe later)\n",
        "            return_values[\"year\"].append(year)\n",
        "            return_values[str(attribute_one)].append(yearly_data[year-2015][str(attribute_one)][x]) # append the first attribute\n",
        "            return_values[str(attribute_two)].append(yearly_data[year-2015][str(attribute_two)][x]) # append the second attribute\n",
        "           \n",
        "            # increment the index value\n",
        "            x += 1\n",
        "\n",
        "    return return_values\n"
      ]
    },
    {
      "cell_type": "code",
      "execution_count": 94,
      "metadata": {},
      "outputs": [
        {
          "data": {
            "text/html": [
              "<div>\n",
              "<style scoped>\n",
              "    .dataframe tbody tr th:only-of-type {\n",
              "        vertical-align: middle;\n",
              "    }\n",
              "\n",
              "    .dataframe tbody tr th {\n",
              "        vertical-align: top;\n",
              "    }\n",
              "\n",
              "    .dataframe thead th {\n",
              "        text-align: right;\n",
              "    }\n",
              "</style>\n",
              "<table border=\"1\" class=\"dataframe\">\n",
              "  <thead>\n",
              "    <tr style=\"text-align: right;\">\n",
              "      <th></th>\n",
              "      <th>year</th>\n",
              "      <th>Social Support</th>\n",
              "      <th>Life Expectancy</th>\n",
              "    </tr>\n",
              "  </thead>\n",
              "  <tbody>\n",
              "    <tr>\n",
              "      <th>0</th>\n",
              "      <td>2015</td>\n",
              "      <td>1.34951</td>\n",
              "      <td>0.94143</td>\n",
              "    </tr>\n",
              "    <tr>\n",
              "      <th>1</th>\n",
              "      <td>2015</td>\n",
              "      <td>1.40223</td>\n",
              "      <td>0.94784</td>\n",
              "    </tr>\n",
              "    <tr>\n",
              "      <th>2</th>\n",
              "      <td>2015</td>\n",
              "      <td>1.36058</td>\n",
              "      <td>0.87464</td>\n",
              "    </tr>\n",
              "    <tr>\n",
              "      <th>3</th>\n",
              "      <td>2015</td>\n",
              "      <td>1.33095</td>\n",
              "      <td>0.88521</td>\n",
              "    </tr>\n",
              "    <tr>\n",
              "      <th>4</th>\n",
              "      <td>2015</td>\n",
              "      <td>1.32261</td>\n",
              "      <td>0.90563</td>\n",
              "    </tr>\n",
              "    <tr>\n",
              "      <th>...</th>\n",
              "      <td>...</td>\n",
              "      <td>...</td>\n",
              "      <td>...</td>\n",
              "    </tr>\n",
              "    <tr>\n",
              "      <th>777</th>\n",
              "      <td>2019</td>\n",
              "      <td>0.71100</td>\n",
              "      <td>0.61400</td>\n",
              "    </tr>\n",
              "    <tr>\n",
              "      <th>778</th>\n",
              "      <td>2019</td>\n",
              "      <td>0.88500</td>\n",
              "      <td>0.49900</td>\n",
              "    </tr>\n",
              "    <tr>\n",
              "      <th>779</th>\n",
              "      <td>2019</td>\n",
              "      <td>0.51700</td>\n",
              "      <td>0.36100</td>\n",
              "    </tr>\n",
              "    <tr>\n",
              "      <th>780</th>\n",
              "      <td>2019</td>\n",
              "      <td>0.00000</td>\n",
              "      <td>0.10500</td>\n",
              "    </tr>\n",
              "    <tr>\n",
              "      <th>781</th>\n",
              "      <td>2019</td>\n",
              "      <td>0.57500</td>\n",
              "      <td>0.29500</td>\n",
              "    </tr>\n",
              "  </tbody>\n",
              "</table>\n",
              "<p>782 rows × 3 columns</p>\n",
              "</div>"
            ],
            "text/plain": [
              "     year  Social Support  Life Expectancy\n",
              "0    2015         1.34951          0.94143\n",
              "1    2015         1.40223          0.94784\n",
              "2    2015         1.36058          0.87464\n",
              "3    2015         1.33095          0.88521\n",
              "4    2015         1.32261          0.90563\n",
              "..    ...             ...              ...\n",
              "777  2019         0.71100          0.61400\n",
              "778  2019         0.88500          0.49900\n",
              "779  2019         0.51700          0.36100\n",
              "780  2019         0.00000          0.10500\n",
              "781  2019         0.57500          0.29500\n",
              "\n",
              "[782 rows x 3 columns]"
            ]
          },
          "execution_count": 94,
          "metadata": {},
          "output_type": "execute_result"
        }
      ],
      "source": [
        "# get the values of trust and freedom using the method we just defined\n",
        "soc_sup_life_expect_correlation_dict = correlation_data(\"Social Support\", \"Life Expectancy\")\n",
        "\n",
        "# converting the dictionary returned by the function into a dataframe\n",
        "soc_sup_life_expect_correlation = pd.DataFrame.from_dict(soc_sup_life_expect_correlation_dict)\n",
        "soc_sup_life_expect_correlation"
      ]
    },
    {
      "cell_type": "code",
      "execution_count": 208,
      "metadata": {},
      "outputs": [
        {
          "data": {
            "image/png": "[encoded data removed]",
            "text/plain": [
              "<Figure size 432x288 with 1 Axes>"
            ]
          },
          "metadata": {
            "needs_background": "light"
          },
          "output_type": "display_data"
        }
      ],
      "source": [
        "soc_sup_life_expect_correlation_plot = sns.regplot(x=soc_sup_life_expect_correlation['Social Support'], y=soc_sup_life_expect_correlation['Life Expectancy'])"
      ]
    },
    {
      "cell_type": "code",
      "execution_count": 212,
      "metadata": {},
      "outputs": [
        {
          "data": {
            "text/plain": [
              "0.5726502620763053"
            ]
          },
          "execution_count": 212,
          "metadata": {},
          "output_type": "execute_result"
        }
      ],
      "source": [
        "# using the python function 'corr' to find the correlation, in addition to the graph\n",
        "soc_sup_life_expect_correlation['Social Support'].corr(soc_sup_life_expect_correlation['Life Expectancy'])"
      ]
    },
    {
      "cell_type": "markdown",
      "metadata": {},
      "source": [
        "### **Results:**\n",
        "There seems to be a moderate correlation between social support and life expectancy. The correlation coefficient is 0.57. This shows that the more family and friends a citizen has, the person is more likely to live longer. This is most likely due to them having support, ease and comfort from those who are close to them.\n"
      ]
    },
    {
      "cell_type": "markdown",
      "metadata": {},
      "source": [
        "## **Is There a Correlation Between Trust and Freedom?**"
      ]
    },
    {
      "cell_type": "markdown",
      "metadata": {},
      "source": [
        "#### **Question:** Is there a correlation between **Trust** and **Freedom**? What is the correlation for each year in the dataset?"
      ]
    },
    {
      "cell_type": "markdown",
      "metadata": {},
      "source": [
        "#### **Task:** Find the values of **Trust** and **Freedom** over each year in the dataset, and then graph the data to visualize any trends."
      ]
    },
    {
      "cell_type": "code",
      "execution_count": 90,
      "metadata": {},
      "outputs": [
        {
          "data": {
            "text/html": [
              "<div>\n",
              "<style scoped>\n",
              "    .dataframe tbody tr th:only-of-type {\n",
              "        vertical-align: middle;\n",
              "    }\n",
              "\n",
              "    .dataframe tbody tr th {\n",
              "        vertical-align: top;\n",
              "    }\n",
              "\n",
              "    .dataframe thead th {\n",
              "        text-align: right;\n",
              "    }\n",
              "</style>\n",
              "<table border=\"1\" class=\"dataframe\">\n",
              "  <thead>\n",
              "    <tr style=\"text-align: right;\">\n",
              "      <th></th>\n",
              "      <th>year</th>\n",
              "      <th>Trust</th>\n",
              "      <th>Freedom</th>\n",
              "    </tr>\n",
              "  </thead>\n",
              "  <tbody>\n",
              "    <tr>\n",
              "      <th>0</th>\n",
              "      <td>2015</td>\n",
              "      <td>0.41978</td>\n",
              "      <td>0.66557</td>\n",
              "    </tr>\n",
              "    <tr>\n",
              "      <th>1</th>\n",
              "      <td>2015</td>\n",
              "      <td>0.14145</td>\n",
              "      <td>0.62877</td>\n",
              "    </tr>\n",
              "    <tr>\n",
              "      <th>2</th>\n",
              "      <td>2015</td>\n",
              "      <td>0.48357</td>\n",
              "      <td>0.64938</td>\n",
              "    </tr>\n",
              "    <tr>\n",
              "      <th>3</th>\n",
              "      <td>2015</td>\n",
              "      <td>0.36503</td>\n",
              "      <td>0.66973</td>\n",
              "    </tr>\n",
              "    <tr>\n",
              "      <th>4</th>\n",
              "      <td>2015</td>\n",
              "      <td>0.32957</td>\n",
              "      <td>0.63297</td>\n",
              "    </tr>\n",
              "    <tr>\n",
              "      <th>...</th>\n",
              "      <td>...</td>\n",
              "      <td>...</td>\n",
              "      <td>...</td>\n",
              "    </tr>\n",
              "    <tr>\n",
              "      <th>777</th>\n",
              "      <td>2019</td>\n",
              "      <td>0.41100</td>\n",
              "      <td>0.55500</td>\n",
              "    </tr>\n",
              "    <tr>\n",
              "      <th>778</th>\n",
              "      <td>2019</td>\n",
              "      <td>0.14700</td>\n",
              "      <td>0.41700</td>\n",
              "    </tr>\n",
              "    <tr>\n",
              "      <th>779</th>\n",
              "      <td>2019</td>\n",
              "      <td>0.02500</td>\n",
              "      <td>0.00000</td>\n",
              "    </tr>\n",
              "    <tr>\n",
              "      <th>780</th>\n",
              "      <td>2019</td>\n",
              "      <td>0.03500</td>\n",
              "      <td>0.22500</td>\n",
              "    </tr>\n",
              "    <tr>\n",
              "      <th>781</th>\n",
              "      <td>2019</td>\n",
              "      <td>0.09100</td>\n",
              "      <td>0.01000</td>\n",
              "    </tr>\n",
              "  </tbody>\n",
              "</table>\n",
              "<p>782 rows × 3 columns</p>\n",
              "</div>"
            ],
            "text/plain": [
              "     year    Trust  Freedom\n",
              "0    2015  0.41978  0.66557\n",
              "1    2015  0.14145  0.62877\n",
              "2    2015  0.48357  0.64938\n",
              "3    2015  0.36503  0.66973\n",
              "4    2015  0.32957  0.63297\n",
              "..    ...      ...      ...\n",
              "777  2019  0.41100  0.55500\n",
              "778  2019  0.14700  0.41700\n",
              "779  2019  0.02500  0.00000\n",
              "780  2019  0.03500  0.22500\n",
              "781  2019  0.09100  0.01000\n",
              "\n",
              "[782 rows x 3 columns]"
            ]
          },
          "execution_count": 90,
          "metadata": {},
          "output_type": "execute_result"
        }
      ],
      "source": [
        "# get the values of trust and freedom using a function we defined in an earlier question\n",
        "trust_freedom_correlation_dict = correlation_data(\"Trust\", \"Freedom\")\n",
        "\n",
        "# converting the values from a dictionary to a dataframe\n",
        "trust_freedom_correlation = pd.DataFrame.from_dict(trust_freedom_correlation_dict)\n",
        "trust_freedom_correlation"
      ]
    },
    {
      "cell_type": "code",
      "execution_count": 91,
      "metadata": {},
      "outputs": [
        {
          "data": {
            "image/png": "[encoded data removed]",
            "text/plain": [
              "<Figure size 432x288 with 1 Axes>"
            ]
          },
          "metadata": {
            "needs_background": "light"
          },
          "output_type": "display_data"
        }
      ],
      "source": [
        "trust_freedom_correlation_plot = sns.regplot(x=trust_freedom_correlation['Trust'], y=trust_freedom_correlation['Freedom'])"
      ]
    },
    {
      "cell_type": "code",
      "execution_count": 213,
      "metadata": {},
      "outputs": [
        {
          "data": {
            "text/plain": [
              "0.459593278221153"
            ]
          },
          "execution_count": 213,
          "metadata": {},
          "output_type": "execute_result"
        }
      ],
      "source": [
        "# using the python function 'corr' to find the correlation, in addition to the graph\n",
        "trust_freedom_correlation['Trust'].corr(trust_freedom_correlation['Freedom'])"
      ]
    },
    {
      "cell_type": "markdown",
      "metadata": {},
      "source": [
        "### **Results:**\n",
        "There is a moderate correlation between Trust and Freedom with the correlation coefficient being 0.46. This shows that Trust and Freedom has some impact on the overall happiness of its citizens. "
      ]
    },
    {
      "cell_type": "markdown",
      "metadata": {},
      "source": [
        "## **Is There a Correlation Between Freedom and Overall Country Happiness?**"
      ]
    },
    {
      "cell_type": "markdown",
      "metadata": {},
      "source": [
        "#### **Question:** Is there a correlation between **Freedom** and **Overall Country Happiness**? What is the correlation for each year in the dataset?"
      ]
    },
    {
      "cell_type": "markdown",
      "metadata": {},
      "source": [
        "#### **Task:** Find the values of **Freedom** and **Overall Score** over each year in the dataset, and then graph the data to visualize any trends."
      ]
    },
    {
      "cell_type": "code",
      "execution_count": 97,
      "metadata": {},
      "outputs": [
        {
          "data": {
            "text/html": [
              "<div>\n",
              "<style scoped>\n",
              "    .dataframe tbody tr th:only-of-type {\n",
              "        vertical-align: middle;\n",
              "    }\n",
              "\n",
              "    .dataframe tbody tr th {\n",
              "        vertical-align: top;\n",
              "    }\n",
              "\n",
              "    .dataframe thead th {\n",
              "        text-align: right;\n",
              "    }\n",
              "</style>\n",
              "<table border=\"1\" class=\"dataframe\">\n",
              "  <thead>\n",
              "    <tr style=\"text-align: right;\">\n",
              "      <th></th>\n",
              "      <th>year</th>\n",
              "      <th>Freedom</th>\n",
              "      <th>Overall Score</th>\n",
              "    </tr>\n",
              "  </thead>\n",
              "  <tbody>\n",
              "    <tr>\n",
              "      <th>0</th>\n",
              "      <td>2015</td>\n",
              "      <td>0.66557</td>\n",
              "      <td>1</td>\n",
              "    </tr>\n",
              "    <tr>\n",
              "      <th>1</th>\n",
              "      <td>2015</td>\n",
              "      <td>0.62877</td>\n",
              "      <td>2</td>\n",
              "    </tr>\n",
              "    <tr>\n",
              "      <th>2</th>\n",
              "      <td>2015</td>\n",
              "      <td>0.64938</td>\n",
              "      <td>3</td>\n",
              "    </tr>\n",
              "    <tr>\n",
              "      <th>3</th>\n",
              "      <td>2015</td>\n",
              "      <td>0.66973</td>\n",
              "      <td>4</td>\n",
              "    </tr>\n",
              "    <tr>\n",
              "      <th>4</th>\n",
              "      <td>2015</td>\n",
              "      <td>0.63297</td>\n",
              "      <td>5</td>\n",
              "    </tr>\n",
              "    <tr>\n",
              "      <th>...</th>\n",
              "      <td>...</td>\n",
              "      <td>...</td>\n",
              "      <td>...</td>\n",
              "    </tr>\n",
              "    <tr>\n",
              "      <th>777</th>\n",
              "      <td>2019</td>\n",
              "      <td>0.55500</td>\n",
              "      <td>152</td>\n",
              "    </tr>\n",
              "    <tr>\n",
              "      <th>778</th>\n",
              "      <td>2019</td>\n",
              "      <td>0.41700</td>\n",
              "      <td>153</td>\n",
              "    </tr>\n",
              "    <tr>\n",
              "      <th>779</th>\n",
              "      <td>2019</td>\n",
              "      <td>0.00000</td>\n",
              "      <td>154</td>\n",
              "    </tr>\n",
              "    <tr>\n",
              "      <th>780</th>\n",
              "      <td>2019</td>\n",
              "      <td>0.22500</td>\n",
              "      <td>155</td>\n",
              "    </tr>\n",
              "    <tr>\n",
              "      <th>781</th>\n",
              "      <td>2019</td>\n",
              "      <td>0.01000</td>\n",
              "      <td>156</td>\n",
              "    </tr>\n",
              "  </tbody>\n",
              "</table>\n",
              "<p>782 rows × 3 columns</p>\n",
              "</div>"
            ],
            "text/plain": [
              "     year  Freedom  Overall Score\n",
              "0    2015  0.66557              1\n",
              "1    2015  0.62877              2\n",
              "2    2015  0.64938              3\n",
              "3    2015  0.66973              4\n",
              "4    2015  0.63297              5\n",
              "..    ...      ...            ...\n",
              "777  2019  0.55500            152\n",
              "778  2019  0.41700            153\n",
              "779  2019  0.00000            154\n",
              "780  2019  0.22500            155\n",
              "781  2019  0.01000            156\n",
              "\n",
              "[782 rows x 3 columns]"
            ]
          },
          "execution_count": 97,
          "metadata": {},
          "output_type": "execute_result"
        }
      ],
      "source": [
        "# get the values of freedom and overall score using a function we defined in an earlier question\n",
        "freedom_hap_score_correlation_dict = correlation_data(\"Freedom\", \"Overall Score\")\n",
        "\n",
        "# converting the values from a dictionary to a dataframe\n",
        "freedom_hap_score_correlation = pd.DataFrame.from_dict(freedom_hap_score_correlation_dict)\n",
        "freedom_hap_score_correlation"
      ]
    },
    {
      "cell_type": "code",
      "execution_count": 101,
      "metadata": {},
      "outputs": [
        {
          "data": {
            "image/png": "[encoded data removed]",
            "text/plain": [
              "<Figure size 432x288 with 1 Axes>"
            ]
          },
          "metadata": {
            "needs_background": "light"
          },
          "output_type": "display_data"
        }
      ],
      "source": [
        "freedom_hap_score_correlation_plot = sns.regplot(x=freedom_hap_score_correlation['Overall Score'], y=freedom_hap_score_correlation['Freedom'])"
      ]
    },
    {
      "cell_type": "code",
      "execution_count": 214,
      "metadata": {},
      "outputs": [
        {
          "data": {
            "text/plain": [
              "-0.5379422314130164"
            ]
          },
          "execution_count": 214,
          "metadata": {},
          "output_type": "execute_result"
        }
      ],
      "source": [
        "# using the python function 'corr' to find the correlation, in addition to the graph\n",
        "freedom_hap_score_correlation['Overall Score'].corr(freedom_hap_score_correlation['Freedom'])"
      ]
    },
    {
      "cell_type": "markdown",
      "metadata": {},
      "source": [
        "### **Results:**\n",
        "There is a moderate correlation between Freedom and overall country happiness. The happiest countries are seen to be where the most freedom occurs. There are, however, some outliers which can be seen in the graph above. The correlation coefficient is 0.54.\n"
      ]
    },
    {
      "cell_type": "markdown",
      "metadata": {},
      "source": [
        "## **How Does the Order of Happiest Countries Change Over Time? What Instigated the Change in Order?**"
      ]
    },
    {
      "cell_type": "markdown",
      "metadata": {},
      "source": [
        "#### **Question:** How did a country's position change from 2015 to 2019? What attribute had the biggest impact on this change?"
      ]
    },
    {
      "cell_type": "markdown",
      "metadata": {},
      "source": [
        "#### **Task:** Compare the **Overall Score** of every country between 2015, and 2019, and store those values, along with the country's name in a dataframe. Then find the increase in every attribute for each country, and find which value had the greatest increase."
      ]
    },
    {
      "cell_type": "code",
      "execution_count": 325,
      "metadata": {},
      "outputs": [],
      "source": [
        "# a method to find the overall change in position over the range of the dataset\n",
        "def total_change():\n",
        "    return_values = {\n",
        "        \"Country\": [],\n",
        "        \"Total Score Change\": [],\n",
        "        \"Total GDP Change\": [],\n",
        "        \"Total Life Expectancy Change\": [],\n",
        "        \"Total Social Support Change\": [],\n",
        "        \"Total Freedom Change\": [],\n",
        "        \"Total Trust Change\": [],\n",
        "        \"Total Generosity Change\": []\n",
        "    }\n",
        "\n",
        "    for country_index, country in enumerate(yearly_data[4][\"Country\"]):\n",
        "            # only add the value if the current index is within the length of the yearly_data list, and the specified country exists in the 2019 survey\n",
        "            if (country_index < len(yearly_data[4]) and pd.isna(yearly_data[4][\"Country\"][country_index]) != True):\n",
        "                for index, x in enumerate(yearly_data[0][\"Country\"]):\n",
        "                    if (yearly_data[0][\"Country\"][index] == country):\n",
        "                        return_values[\"Country\"].append(country) # year\n",
        "                        return_values[\"Total Score Change\"].append(int(yearly_data[0][\"Overall Score\"][index]) - int(yearly_data[4][\"Overall Score\"][country_index])) # happiness score\n",
        "                        return_values[\"Total GDP Change\"].append(float(yearly_data[0][\"GDP per capita\"][index]) - float(yearly_data[4][\"GDP per capita\"][country_index])) # GDP per capita\n",
        "                        return_values[\"Total Life Expectancy Change\"].append(float(yearly_data[0][\"Life Expectancy\"][index]) - float(yearly_data[4][\"Life Expectancy\"][country_index])) # life expectancy\n",
        "                        return_values[\"Total Social Support Change\"].append(float(yearly_data[0][\"Social Support\"][index]) - float(yearly_data[4][\"Social Support\"][country_index])) # social support\n",
        "                        return_values[\"Total Freedom Change\"].append(float(yearly_data[0][\"Freedom\"][index]) - float(yearly_data[4][\"Freedom\"][country_index])) # freedom\n",
        "                        return_values[\"Total Trust Change\"].append(float(yearly_data[0][\"Trust\"][index]) - float(yearly_data[4][\"Trust\"][country_index])) # trust\n",
        "                        return_values[\"Total Generosity Change\"].append(float(yearly_data[0][\"Generosity\"][index]) - float(yearly_data[4][\"Generosity\"][country_index])) # generosity\n",
        "\n",
        "    return return_values"
      ]
    },
    {
      "cell_type": "code",
      "execution_count": 326,
      "metadata": {},
      "outputs": [
        {
          "data": {
            "text/html": [
              "<div>\n",
              "<style scoped>\n",
              "    .dataframe tbody tr th:only-of-type {\n",
              "        vertical-align: middle;\n",
              "    }\n",
              "\n",
              "    .dataframe tbody tr th {\n",
              "        vertical-align: top;\n",
              "    }\n",
              "\n",
              "    .dataframe thead th {\n",
              "        text-align: right;\n",
              "    }\n",
              "</style>\n",
              "<table border=\"1\" class=\"dataframe\">\n",
              "  <thead>\n",
              "    <tr style=\"text-align: right;\">\n",
              "      <th></th>\n",
              "      <th>Country</th>\n",
              "      <th>Total Score Change</th>\n",
              "      <th>Total GDP Change</th>\n",
              "      <th>Total Life Expectancy Change</th>\n",
              "      <th>Total Social Support Change</th>\n",
              "      <th>Total Freedom Change</th>\n",
              "      <th>Total Trust Change</th>\n",
              "      <th>Total Generosity Change</th>\n",
              "      <th>Greatest Name</th>\n",
              "      <th>Greatest Increase</th>\n",
              "    </tr>\n",
              "  </thead>\n",
              "  <tbody>\n",
              "    <tr>\n",
              "      <th>0</th>\n",
              "      <td>Finland</td>\n",
              "      <td>5</td>\n",
              "      <td>-0.04975</td>\n",
              "      <td>-0.09689</td>\n",
              "      <td>-0.26874</td>\n",
              "      <td>0.04569</td>\n",
              "      <td>0.02072</td>\n",
              "      <td>0.08051</td>\n",
              "      <td>Total Generosity Change</td>\n",
              "      <td>0.08051</td>\n",
              "    </tr>\n",
              "    <tr>\n",
              "      <th>1</th>\n",
              "      <td>Denmark</td>\n",
              "      <td>1</td>\n",
              "      <td>-0.05752</td>\n",
              "      <td>-0.12136</td>\n",
              "      <td>-0.21242</td>\n",
              "      <td>0.05738</td>\n",
              "      <td>0.07357</td>\n",
              "      <td>0.08939</td>\n",
              "      <td>Total Generosity Change</td>\n",
              "      <td>0.08939</td>\n",
              "    </tr>\n",
              "    <tr>\n",
              "      <th>2</th>\n",
              "      <td>Norway</td>\n",
              "      <td>1</td>\n",
              "      <td>-0.02900</td>\n",
              "      <td>-0.14279</td>\n",
              "      <td>-0.25105</td>\n",
              "      <td>0.06673</td>\n",
              "      <td>0.02403</td>\n",
              "      <td>0.07599</td>\n",
              "      <td>Total Generosity Change</td>\n",
              "      <td>0.07599</td>\n",
              "    </tr>\n",
              "    <tr>\n",
              "      <th>3</th>\n",
              "      <td>Iceland</td>\n",
              "      <td>-2</td>\n",
              "      <td>-0.07768</td>\n",
              "      <td>-0.07816</td>\n",
              "      <td>-0.22177</td>\n",
              "      <td>0.03777</td>\n",
              "      <td>0.02345</td>\n",
              "      <td>0.08230</td>\n",
              "      <td>Total Generosity Change</td>\n",
              "      <td>0.08230</td>\n",
              "    </tr>\n",
              "    <tr>\n",
              "      <th>4</th>\n",
              "      <td>Netherlands</td>\n",
              "      <td>2</td>\n",
              "      <td>-0.06656</td>\n",
              "      <td>-0.10616</td>\n",
              "      <td>-0.24183</td>\n",
              "      <td>0.05876</td>\n",
              "      <td>0.02014</td>\n",
              "      <td>0.15410</td>\n",
              "      <td>Total Generosity Change</td>\n",
              "      <td>0.15410</td>\n",
              "    </tr>\n",
              "    <tr>\n",
              "      <th>...</th>\n",
              "      <td>...</td>\n",
              "      <td>...</td>\n",
              "      <td>...</td>\n",
              "      <td>...</td>\n",
              "      <td>...</td>\n",
              "      <td>...</td>\n",
              "      <td>...</td>\n",
              "      <td>...</td>\n",
              "      <td>...</td>\n",
              "      <td>...</td>\n",
              "    </tr>\n",
              "    <tr>\n",
              "      <th>144</th>\n",
              "      <td>Yemen</td>\n",
              "      <td>-15</td>\n",
              "      <td>0.25949</td>\n",
              "      <td>-0.06236</td>\n",
              "      <td>-0.48207</td>\n",
              "      <td>0.21271</td>\n",
              "      <td>0.00154</td>\n",
              "      <td>-0.01669</td>\n",
              "      <td>Total GDP Change</td>\n",
              "      <td>0.25949</td>\n",
              "    </tr>\n",
              "    <tr>\n",
              "      <th>145</th>\n",
              "      <td>Rwanda</td>\n",
              "      <td>2</td>\n",
              "      <td>-0.13692</td>\n",
              "      <td>-0.18536</td>\n",
              "      <td>0.06270</td>\n",
              "      <td>0.03701</td>\n",
              "      <td>0.14091</td>\n",
              "      <td>0.00928</td>\n",
              "      <td>Total Trust Change</td>\n",
              "      <td>0.14091</td>\n",
              "    </tr>\n",
              "    <tr>\n",
              "      <th>146</th>\n",
              "      <td>Tanzania</td>\n",
              "      <td>-7</td>\n",
              "      <td>-0.19080</td>\n",
              "      <td>-0.11685</td>\n",
              "      <td>0.11768</td>\n",
              "      <td>-0.08822</td>\n",
              "      <td>-0.08953</td>\n",
              "      <td>0.06777</td>\n",
              "      <td>Total Social Support Change</td>\n",
              "      <td>0.11768</td>\n",
              "    </tr>\n",
              "    <tr>\n",
              "      <th>147</th>\n",
              "      <td>Afghanistan</td>\n",
              "      <td>-1</td>\n",
              "      <td>-0.03018</td>\n",
              "      <td>-0.05765</td>\n",
              "      <td>-0.21415</td>\n",
              "      <td>0.23414</td>\n",
              "      <td>0.07219</td>\n",
              "      <td>0.20710</td>\n",
              "      <td>Total Freedom Change</td>\n",
              "      <td>0.23414</td>\n",
              "    </tr>\n",
              "    <tr>\n",
              "      <th>148</th>\n",
              "      <td>Central African Republic</td>\n",
              "      <td>-7</td>\n",
              "      <td>0.05250</td>\n",
              "      <td>-0.03801</td>\n",
              "      <td>0.00000</td>\n",
              "      <td>0.26379</td>\n",
              "      <td>0.04789</td>\n",
              "      <td>0.00335</td>\n",
              "      <td>Total Freedom Change</td>\n",
              "      <td>0.26379</td>\n",
              "    </tr>\n",
              "  </tbody>\n",
              "</table>\n",
              "<p>149 rows × 10 columns</p>\n",
              "</div>"
            ],
            "text/plain": [
              "                      Country  Total Score Change  Total GDP Change  \\\n",
              "0                     Finland                   5          -0.04975   \n",
              "1                     Denmark                   1          -0.05752   \n",
              "2                      Norway                   1          -0.02900   \n",
              "3                     Iceland                  -2          -0.07768   \n",
              "4                 Netherlands                   2          -0.06656   \n",
              "..                        ...                 ...               ...   \n",
              "144                     Yemen                 -15           0.25949   \n",
              "145                    Rwanda                   2          -0.13692   \n",
              "146                  Tanzania                  -7          -0.19080   \n",
              "147               Afghanistan                  -1          -0.03018   \n",
              "148  Central African Republic                  -7           0.05250   \n",
              "\n",
              "     Total Life Expectancy Change  Total Social Support Change  \\\n",
              "0                        -0.09689                     -0.26874   \n",
              "1                        -0.12136                     -0.21242   \n",
              "2                        -0.14279                     -0.25105   \n",
              "3                        -0.07816                     -0.22177   \n",
              "4                        -0.10616                     -0.24183   \n",
              "..                            ...                          ...   \n",
              "144                      -0.06236                     -0.48207   \n",
              "145                      -0.18536                      0.06270   \n",
              "146                      -0.11685                      0.11768   \n",
              "147                      -0.05765                     -0.21415   \n",
              "148                      -0.03801                      0.00000   \n",
              "\n",
              "     Total Freedom Change  Total Trust Change  Total Generosity Change  \\\n",
              "0                 0.04569             0.02072                  0.08051   \n",
              "1                 0.05738             0.07357                  0.08939   \n",
              "2                 0.06673             0.02403                  0.07599   \n",
              "3                 0.03777             0.02345                  0.08230   \n",
              "4                 0.05876             0.02014                  0.15410   \n",
              "..                    ...                 ...                      ...   \n",
              "144               0.21271             0.00154                 -0.01669   \n",
              "145               0.03701             0.14091                  0.00928   \n",
              "146              -0.08822            -0.08953                  0.06777   \n",
              "147               0.23414             0.07219                  0.20710   \n",
              "148               0.26379             0.04789                  0.00335   \n",
              "\n",
              "                   Greatest Name  Greatest Increase  \n",
              "0        Total Generosity Change            0.08051  \n",
              "1        Total Generosity Change            0.08939  \n",
              "2        Total Generosity Change            0.07599  \n",
              "3        Total Generosity Change            0.08230  \n",
              "4        Total Generosity Change            0.15410  \n",
              "..                           ...                ...  \n",
              "144             Total GDP Change            0.25949  \n",
              "145           Total Trust Change            0.14091  \n",
              "146  Total Social Support Change            0.11768  \n",
              "147         Total Freedom Change            0.23414  \n",
              "148         Total Freedom Change            0.26379  \n",
              "\n",
              "[149 rows x 10 columns]"
            ]
          },
          "execution_count": 326,
          "metadata": {},
          "output_type": "execute_result"
        }
      ],
      "source": [
        "# get the total change over the time period of the dataframe\n",
        "total_score_diff_dict = total_change()\n",
        "\n",
        "# converting the values from a dictionary to a dataframe for ease of use purposes\n",
        "total_score_diff = pd.DataFrame.from_dict(total_score_diff_dict)\n",
        "\n",
        "# find which attribute had the greatest increase for each country\n",
        "greatest_increase = {\n",
        "    \"Greatest Name\": [],\n",
        "    \"Greatest Increase\": []\n",
        "}\n",
        "\n",
        "for country_index, country in enumerate(total_score_diff[\"Country\"]):\n",
        "    greatest_name = \"\"\n",
        "    greatest = 0.0\n",
        "    for column_index, column in enumerate(total_score_diff.columns):\n",
        "        if column_index > 1:\n",
        "            if total_score_diff[column][country_index] > greatest:\n",
        "                greatest_name = column\n",
        "                greatest = total_score_diff[column][country_index]\n",
        "    greatest_increase[\"Greatest Name\"].append(greatest_name)\n",
        "    greatest_increase[\"Greatest Increase\"].append(greatest)\n",
        "\n",
        "\n",
        "total_score_diff[\"Greatest Name\"] = greatest_increase[\"Greatest Name\"]\n",
        "total_score_diff[\"Greatest Increase\"] = greatest_increase[\"Greatest Increase\"]\n",
        "total_score_diff"
      ]
    },
    {
      "cell_type": "code",
      "execution_count": 379,
      "metadata": {},
      "outputs": [
        {
          "data": {
            "image/png": "[encoded data removed]",
            "text/plain": [
              "<Figure size 432x288 with 1 Axes>"
            ]
          },
          "metadata": {
            "needs_background": "light"
          },
          "output_type": "display_data"
        }
      ],
      "source": [
        "greatest_increase_count = {\n",
        "    \"Total GDP Change\": 0,\n",
        "    \"Total Life Expectancy Change\": 0,\n",
        "    \"Total Social Support Change\": 0,\n",
        "    \"Total Freedom Change\": 0,\n",
        "    \"Total Trust Change\": 0,\n",
        "    \"Total Generosity Change\": 0\n",
        "}\n",
        "\n",
        "# counting the number of times each attribute was the greatest increase\n",
        "for n in total_score_diff[\"Greatest Name\"]:\n",
        "    if (n == \"Total GDP Change\"): greatest_increase_count[\"Total GDP Change\"]+=1\n",
        "    elif (n == \"Total Life Expectancy Change\"): greatest_increase_count[\"Total Life Expectancy Change\"]+=1\n",
        "    elif (n == \"Total Social Support Change\"): greatest_increase_count[\"Total Social Support Change\"]+=1\n",
        "    elif (n == \"Total Freedom Change\"): greatest_increase_count[\"Total Freedom Change\"]+=1\n",
        "    elif (n == \"Total Trust Change\"): greatest_increase_count[\"Total Trust Change\"]+=1\n",
        "    else: greatest_increase_count[\"Total Generosity Change\"]+=1\n",
        "\n",
        "x_vals = [\"GDP Change\", \"Life Expectancy Change\", \"Social Support Change\", \"Freedom Change\", \"Trust Change\", \"Generosity Change\"]\n",
        "y_vals = [greatest_increase_count[\"Total GDP Change\"], greatest_increase_count[\"Total Life Expectancy Change\"], greatest_increase_count[\"Total Social Support Change\"],\n",
        "          greatest_increase_count[\"Total Freedom Change\"], greatest_increase_count[\"Total Trust Change\"], greatest_increase_count[\"Total Generosity Change\"]]\n",
        "\n",
        "# creating a bar plot (and adjusting the labels on the )\n",
        "bar_plot = sns.barplot(x=x_vals, y=y_vals, palette='nipy_spectral');\n",
        "bar_plot.set_xticklabels(bar_plot.get_xticklabels(), rotation=90)\n",
        "plt.show()"
      ]
    },
    {
      "cell_type": "markdown",
      "metadata": {},
      "source": [
        "*Note that the above values are not weighted, and thus do not give an accurate representation of the data.*"
      ]
    },
    {
      "cell_type": "code",
      "execution_count": 375,
      "metadata": {},
      "outputs": [
        {
          "data": {
            "image/png": "[encoded data removed]",
            "text/plain": [
              "<Figure size 432x288 with 1 Axes>"
            ]
          },
          "metadata": {
            "needs_background": "light"
          },
          "output_type": "display_data"
        }
      ],
      "source": [
        "# next, we'll weight the data to make it more accurate.\n",
        "# first, we need to find the relation between each value and the happiness score to do that\n",
        "def happiness_correlation(attribute1):\n",
        "    # finding the correlation between the entered value and the happiness score\n",
        "    temp_happiness_correlation_dict = correlation_data(attribute1,'Happiness Score')\n",
        "\n",
        "    # converting the dictionary to a dataframe for ease of use\n",
        "    temp_happiness_correlation = pd.DataFrame.from_dict(temp_happiness_correlation_dict)\n",
        "\n",
        "    # finding and returning the correlation between the two values\n",
        "    return temp_happiness_correlation['Happiness Score'].corr(temp_happiness_correlation[attribute1])\n",
        "\n",
        "# graphing the correlation data\n",
        "x_vals = [\"GDP Change\", \"Life Expectancy Change\", \"Social Support Change\", \"Freedom Change\", \"Trust Change\", \"Generosity Change\"]\n",
        "happiness_correlation_data = [happiness_correlation('GDP per capita'), happiness_correlation('Life Expectancy'), happiness_correlation('Social Support'),\n",
        "           happiness_correlation('Freedom'),happiness_correlation('Trust'), happiness_correlation('Generosity')]\n",
        "\n",
        "# creating a bar plot to visualize the correlation data\n",
        "bar_plot = sns.barplot(x=x_vals, y=happiness_correlation_data, palette='nipy_spectral');\n",
        "bar_plot.set_xticklabels(bar_plot.get_xticklabels(), rotation=90)\n",
        "plt.show()"
      ]
    },
    {
      "cell_type": "code",
      "execution_count": 377,
      "metadata": {},
      "outputs": [
        {
          "data": {
            "image/png": "[encoded data removed]",
            "text/plain": [
              "<Figure size 432x288 with 1 Axes>"
            ]
          },
          "metadata": {
            "needs_background": "light"
          },
          "output_type": "display_data"
        }
      ],
      "source": [
        "# weighting the values\n",
        "greatest_increase_count[\"Total GDP Change\"]*=happiness_correlation_data[0] # weighing GDP\n",
        "greatest_increase_count[\"Total Life Expectancy Change\"]*=happiness_correlation_data[1] # weighing life expectancy\n",
        "greatest_increase_count[\"Total Social Support Change\"]*=happiness_correlation_data[2] # weighing social support\n",
        "greatest_increase_count[\"Total Freedom Change\"]*=happiness_correlation_data[3] # weighing freedom\n",
        "greatest_increase_count[\"Total Trust Change\"]*=happiness_correlation_data[4] # weighing trust\n",
        "greatest_increase_count[\"Total Generosity Change\"]*=happiness_correlation_data[5] # weighing generosity\n",
        "\n",
        "\n",
        "# graphing the final weighted values\n",
        "y_vals = [greatest_increase_count[\"Total GDP Change\"], greatest_increase_count[\"Total Life Expectancy Change\"], greatest_increase_count[\"Total Social Support Change\"],\n",
        "          greatest_increase_count[\"Total Freedom Change\"], greatest_increase_count[\"Total Trust Change\"], greatest_increase_count[\"Total Generosity Change\"]]\n",
        "\n",
        "# creating a bar plot to visualize the final data\n",
        "bar_plot = sns.barplot(x=x_vals, y=y_vals, palette='nipy_spectral');\n",
        "bar_plot.set_xticklabels(bar_plot.get_xticklabels(), rotation=90)\n",
        "plt.show()"
      ]
    },
    {
      "cell_type": "markdown",
      "metadata": {},
      "source": [
        "### **Results:**\n",
        "**Answer:** After weighting the values with respect to their correlation to the happiness score, it appears as though an increase in freedom is by far the most common cause of a positional increase. This is followed closely by an increase in trust and then generosity. This makes sense, given that an increase in GDP, Life Expectancy, and Social Support is unlikely to be felt day-to-day, and thus won't be reported on a survey.\n"
      ]
    },
    {
      "cell_type": "markdown",
      "metadata": {},
      "source": [
        "## **How Much of an Impact Does the Perception of Corruption Have on Overall Country Happiness?**"
      ]
    },
    {
      "cell_type": "markdown",
      "metadata": {},
      "source": [
        "#### **Question:** Is there a correlation between **The Perception of Corruption** and **Overall Country Happiness**? What is the correlation for each year in the dataset?"
      ]
    },
    {
      "cell_type": "markdown",
      "metadata": {},
      "source": [
        "#### **Task:** Find the values of **Trust** and **Overall Score** over each year in the dataset, and then graph the data to visualize any trends."
      ]
    },
    {
      "cell_type": "code",
      "execution_count": 104,
      "metadata": {},
      "outputs": [
        {
          "data": {
            "text/html": [
              "<div>\n",
              "<style scoped>\n",
              "    .dataframe tbody tr th:only-of-type {\n",
              "        vertical-align: middle;\n",
              "    }\n",
              "\n",
              "    .dataframe tbody tr th {\n",
              "        vertical-align: top;\n",
              "    }\n",
              "\n",
              "    .dataframe thead th {\n",
              "        text-align: right;\n",
              "    }\n",
              "</style>\n",
              "<table border=\"1\" class=\"dataframe\">\n",
              "  <thead>\n",
              "    <tr style=\"text-align: right;\">\n",
              "      <th></th>\n",
              "      <th>year</th>\n",
              "      <th>Trust</th>\n",
              "      <th>Overall Score</th>\n",
              "    </tr>\n",
              "  </thead>\n",
              "  <tbody>\n",
              "    <tr>\n",
              "      <th>0</th>\n",
              "      <td>2015</td>\n",
              "      <td>0.41978</td>\n",
              "      <td>1</td>\n",
              "    </tr>\n",
              "    <tr>\n",
              "      <th>1</th>\n",
              "      <td>2015</td>\n",
              "      <td>0.14145</td>\n",
              "      <td>2</td>\n",
              "    </tr>\n",
              "    <tr>\n",
              "      <th>2</th>\n",
              "      <td>2015</td>\n",
              "      <td>0.48357</td>\n",
              "      <td>3</td>\n",
              "    </tr>\n",
              "    <tr>\n",
              "      <th>3</th>\n",
              "      <td>2015</td>\n",
              "      <td>0.36503</td>\n",
              "      <td>4</td>\n",
              "    </tr>\n",
              "    <tr>\n",
              "      <th>4</th>\n",
              "      <td>2015</td>\n",
              "      <td>0.32957</td>\n",
              "      <td>5</td>\n",
              "    </tr>\n",
              "    <tr>\n",
              "      <th>...</th>\n",
              "      <td>...</td>\n",
              "      <td>...</td>\n",
              "      <td>...</td>\n",
              "    </tr>\n",
              "    <tr>\n",
              "      <th>777</th>\n",
              "      <td>2019</td>\n",
              "      <td>0.41100</td>\n",
              "      <td>152</td>\n",
              "    </tr>\n",
              "    <tr>\n",
              "      <th>778</th>\n",
              "      <td>2019</td>\n",
              "      <td>0.14700</td>\n",
              "      <td>153</td>\n",
              "    </tr>\n",
              "    <tr>\n",
              "      <th>779</th>\n",
              "      <td>2019</td>\n",
              "      <td>0.02500</td>\n",
              "      <td>154</td>\n",
              "    </tr>\n",
              "    <tr>\n",
              "      <th>780</th>\n",
              "      <td>2019</td>\n",
              "      <td>0.03500</td>\n",
              "      <td>155</td>\n",
              "    </tr>\n",
              "    <tr>\n",
              "      <th>781</th>\n",
              "      <td>2019</td>\n",
              "      <td>0.09100</td>\n",
              "      <td>156</td>\n",
              "    </tr>\n",
              "  </tbody>\n",
              "</table>\n",
              "<p>782 rows × 3 columns</p>\n",
              "</div>"
            ],
            "text/plain": [
              "     year    Trust  Overall Score\n",
              "0    2015  0.41978              1\n",
              "1    2015  0.14145              2\n",
              "2    2015  0.48357              3\n",
              "3    2015  0.36503              4\n",
              "4    2015  0.32957              5\n",
              "..    ...      ...            ...\n",
              "777  2019  0.41100            152\n",
              "778  2019  0.14700            153\n",
              "779  2019  0.02500            154\n",
              "780  2019  0.03500            155\n",
              "781  2019  0.09100            156\n",
              "\n",
              "[782 rows x 3 columns]"
            ]
          },
          "execution_count": 104,
          "metadata": {},
          "output_type": "execute_result"
        }
      ],
      "source": [
        "# get the values of trust and overall score using a function we defined in an earlier question\n",
        "trust_hap_score_correlation_dict = correlation_data(\"Trust\", \"Overall Score\")\n",
        "\n",
        "# converting the values from a dictionary to a dataframe\n",
        "trust_hap_score_correlation = pd.DataFrame.from_dict(trust_hap_score_correlation_dict)\n",
        "trust_hap_score_correlation"
      ]
    },
    {
      "cell_type": "code",
      "execution_count": 103,
      "metadata": {},
      "outputs": [
        {
          "data": {
            "image/png": "[encoded data removed]",
            "text/plain": [
              "<Figure size 432x288 with 1 Axes>"
            ]
          },
          "metadata": {
            "needs_background": "light"
          },
          "output_type": "display_data"
        }
      ],
      "source": [
        "trust_hap_score_correlation_plot = sns.regplot(x=trust_hap_score_correlation['Overall Score'], y=trust_hap_score_correlation['Trust'])"
      ]
    },
    {
      "cell_type": "code",
      "execution_count": 215,
      "metadata": {},
      "outputs": [
        {
          "data": {
            "text/plain": [
              "-0.3727805780080908"
            ]
          },
          "execution_count": 215,
          "metadata": {},
          "output_type": "execute_result"
        }
      ],
      "source": [
        "# using the python function 'corr' to find the correlation, in addition to the graph\n",
        "trust_hap_score_correlation['Overall Score'].corr(trust_hap_score_correlation['Trust'])"
      ]
    },
    {
      "cell_type": "markdown",
      "metadata": {},
      "source": [
        "### **Results:**\n",
        "**Answer:** There is a relatively weak negative correlation between trust and overall score, and so as the trust value falls, the overall score falls along with it. The correlation between these values is not all to high however, indicating that it is not very important for the overall happiness score of a country. This is also supported by the findings of the 'corr' function, which indicates a light correlation between these two values."
      ]
    },
    {
      "cell_type": "markdown",
      "metadata": {},
      "source": [
        "# **Potential Data Science**\n",
        "***"
      ]
    },
    {
      "cell_type": "markdown",
      "metadata": {},
      "source": [
        "From our findings and work with the dataset we were able to find relationships between the data and this could be useful for businesses or governments. One way that this would be useful is if some countries want to increase the overall happiness of the country and were not sure what they should improve first. With our work these countries would know that GDP per capita has the most influence on happiness and they would work On increasing their GDP which will increase their happiness. Another finding that would be useful for a country or business is that life expectancy has a large impact on happiness this means that countries should focus on healthcare and try to increase their life expectancy. \n"
      ]
    },
    {
      "cell_type": "markdown",
      "metadata": {},
      "source": [
        "# **Conclusion**\n",
        "***"
      ]
    },
    {
      "cell_type": "markdown",
      "metadata": {},
      "source": [
        "The limitations of this data is that there is no context. For example, a country could be at war so the freedom score could be low, but the data will not explain the main cause for a certain score has a weird mark. Data would have to be analyzed individually and conclusions have to be drawn by yourself. One lesson that we learned was how to gather questions related to our data. Finding appropriate questions to ask that relate to our data was one of the most difficult parts of our assignment. The way we learned to do this was to take our data and see if we could find any trends without diving deep into the data. Some of these things were what countries we saw consistently at the top another would be knowing what the problem is that we are trying to solve or understand. Some things that we did not predict was how trust and freedom was not that closely related. It seems that the trust in the government and freedom seem to be not that related. Generosity seemed to be the biggest.\n"
      ]
    }
  ],
  "metadata": {
    "colab": {
      "collapsed_sections": [],
      "name": "Final Project.ipynb",
      "provenance": [],
      "toc_visible": true
    },
    "kernelspec": {
      "display_name": "Python 3",
      "name": "python3"
    },
    "language_info": {
      "codemirror_mode": {
        "name": "ipython",
        "version": 3
      },
      "file_extension": ".py",
      "mimetype": "text/x-python",
      "name": "python",
      "nbconvert_exporter": "python",
      "pygments_lexer": "ipython3",
      "version": "3.8.5"
    }
  },
  "nbformat": 4,
  "nbformat_minor": 0
}
